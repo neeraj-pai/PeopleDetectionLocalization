{
 "cells": [
  {
   "cell_type": "code",
   "execution_count": 1,
   "metadata": {},
   "outputs": [],
   "source": [
    "#Test for People detection using AlexNet + FC regression model\n",
    "#Network will output yes or no and bounding box for detection\n",
    "import numpy as np\n",
    "import os\n",
    "import tensorflow as tf\n",
    "import cv2"
   ]
  },
  {
   "cell_type": "code",
   "execution_count": 2,
   "metadata": {},
   "outputs": [],
   "source": [
    "#Read in all inputs\n",
    "#input images and bounding boxes\n",
    "image_files = os.listdir('images')\n",
    "labels = os.listdir('xml')"
   ]
  },
  {
   "cell_type": "code",
   "execution_count": 3,
   "metadata": {},
   "outputs": [],
   "source": [
    "import random\n",
    "#Lets see a random image\n",
    "#random.seed(23)\n",
    "#index = random.randint(0, len(image_files))\n",
    "index = 3763\n",
    "img = cv2.imread(os.path.join('images',image_files[index]),1)"
   ]
  },
  {
   "cell_type": "code",
   "execution_count": 4,
   "metadata": {},
   "outputs": [
    {
     "data": {
      "text/plain": [
       "<matplotlib.image.AxesImage at 0x2290c8a4940>"
      ]
     },
     "execution_count": 4,
     "metadata": {},
     "output_type": "execute_result"
    },
    {
     "data": {
      "image/png": "[encoded data removed]",
      "text/plain": [
       "<matplotlib.figure.Figure at 0x2290a081e10>"
      ]
     },
     "metadata": {},
     "output_type": "display_data"
    }
   ],
   "source": [
    "# Will use matplotlib for showing the image\n",
    "from matplotlib import pyplot as plt\n",
    "\n",
    "# Plot inline\n",
    "%matplotlib inline\n",
    "plt.imshow(img)"
   ]
  },
  {
   "cell_type": "code",
   "execution_count": 5,
   "metadata": {},
   "outputs": [
    {
     "name": "stdout",
     "output_type": "stream",
     "text": [
      "1 7 7 31 32\n"
     ]
    }
   ],
   "source": [
    "#Lets take a look at bounding box label\n",
    "xml_file = os.path.join('xml',labels[index])\n",
    "label_file = open(xml_file , 'r')\n",
    "lines = label_file.read()\n",
    "print(lines)\n",
    "label_file.close()"
   ]
  },
  {
   "cell_type": "code",
   "execution_count": 6,
   "metadata": {},
   "outputs": [
    {
     "data": {
      "text/plain": [
       "<matplotlib.image.AxesImage at 0x2290c923978>"
      ]
     },
     "execution_count": 6,
     "metadata": {},
     "output_type": "execute_result"
    },
    {
     "data": {
      "image/png": "[encoded data removed]",
      "text/plain": [
       "<matplotlib.figure.Figure at 0x2290c8ce198>"
      ]
     },
     "metadata": {},
     "output_type": "display_data"
    }
   ],
   "source": [
    "#The format of the label file is 0 x x x x if nothing is present in the image and 1 x0 y0 x1 y1 if there is an object present\n",
    "#Lets use re to get the coordinates and plot the image\n",
    "import re\n",
    "pattern = re.compile(r\"(\\d+) (\\d+) (\\d+) (\\d+) (\\d+)\")\n",
    "matchObj = pattern.findall(lines)\n",
    "if matchObj:\n",
    "    is_present = int(matchObj[0][0])\n",
    "    if is_present == 1:\n",
    "        x0 = int(matchObj[0][1])\n",
    "        y0 = int(matchObj[0][2])\n",
    "        x1 = int(matchObj[0][3])\n",
    "        y1 = int(matchObj[0][4])\n",
    "        cv2.rectangle(img,(x0,y0),(x1,y1),(255,0,0),2)\n",
    "plt.imshow(img)"
   ]
  },
  {
   "cell_type": "code",
   "execution_count": 7,
   "metadata": {},
   "outputs": [
    {
     "name": "stdout",
     "output_type": "stream",
     "text": [
      "5880\n",
      "5880\n"
     ]
    }
   ],
   "source": [
    "#Lets us look at total images\n",
    "print(len(image_files))\n",
    "print(len(labels))"
   ]
  },
  {
   "cell_type": "code",
   "execution_count": 10,
   "metadata": {},
   "outputs": [
    {
     "name": "stdout",
     "output_type": "stream",
     "text": [
      "(5880, 49, 49, 3)\n"
     ]
    }
   ],
   "source": [
    "#Read all these and populate np array\n",
    "#Read images\n",
    "allImage = np.zeros([len(image_files),49,49,3])\n",
    "for i in range(0,len(image_files)):\n",
    "    img = cv2.imread(os.path.join('images',image_files[i]),1)\n",
    "    allImage[i]=img\n",
    "print(allImage.shape)"
   ]
  },
  {
   "cell_type": "code",
   "execution_count": 12,
   "metadata": {},
   "outputs": [
    {
     "name": "stdout",
     "output_type": "stream",
     "text": [
      "(5880, 6)\n"
     ]
    }
   ],
   "source": [
    "#Read labels and convert to one hot encoded\n",
    "all_labels = np.zeros([len(labels),6])\n",
    "import re\n",
    "for i in range(0,len(labels)):\n",
    "    label_file = open(os.path.join('xml',labels[i]) , 'r')\n",
    "    lines = label_file.read()\n",
    "    label_file.close()\n",
    "    pattern = re.compile(r\"(\\d+) (\\d+) (\\d+) (\\d+) (\\d+)\")\n",
    "    matchObj = pattern.findall(lines)\n",
    "    if matchObj:\n",
    "        is_present = int(matchObj[0][0])\n",
    "        if is_present == 1:\n",
    "            not_present = 0\n",
    "            present = 1            \n",
    "            x0 = int(matchObj[0][1])\n",
    "            y0 = int(matchObj[0][2])\n",
    "            x1 = int(matchObj[0][3])\n",
    "            y1 = int(matchObj[0][4])\n",
    "        else:\n",
    "            not_present = 1\n",
    "            present = 0        \n",
    "            x0 = 0\n",
    "            y0 = 0\n",
    "            x1 = 0\n",
    "            y1 = 0\n",
    "    all_labels[i] = [not_present,present,x0,y0,x1,y1]\n",
    "print(all_labels.shape)"
   ]
  },
  {
   "cell_type": "code",
   "execution_count": 15,
   "metadata": {},
   "outputs": [],
   "source": [
    "#Test validation split + randomize order\n",
    "tf.random_shuffle(allImage, seed=181)\n",
    "tf.random_shuffle(all_labels, seed=181)\n",
    "import sklearn.model_selection as sk\n",
    "\n",
    "X_train, X_test, y_train, y_test = sk.train_test_split(allImage,all_labels,test_size=0.20, random_state = 42)"
   ]
  },
  {
   "cell_type": "code",
   "execution_count": 16,
   "metadata": {},
   "outputs": [
    {
     "name": "stdout",
     "output_type": "stream",
     "text": [
      "4704\n",
      "4704\n",
      "1176\n",
      "1176\n"
     ]
    }
   ],
   "source": [
    "print(len(X_train))\n",
    "print(len(y_train))\n",
    "\n",
    "print(len(X_test))\n",
    "print(len(y_test))"
   ]
  },
  {
   "cell_type": "code",
   "execution_count": 17,
   "metadata": {},
   "outputs": [],
   "source": [
    "#There are approximate 3000 negatives and 2880 positive images. The images are taken from a 640x480 image and cropped with a 8\n",
    "#pixel sliding window. If the bounding box is completely encompassed in the 49x49 frame it is stored as label for the image"
   ]
  },
  {
   "cell_type": "code",
   "execution_count": 18,
   "metadata": {},
   "outputs": [
    {
     "name": "stdout",
     "output_type": "stream",
     "text": [
      "(?, 23, 23, 48)\n",
      "(?, 9, 9, 128)\n",
      "(?, 7, 7, 192)\n",
      "(?, 5, 5, 192)\n",
      "(?, 1, 1, 128)\n",
      "(?, 2048)\n",
      "(?, 2048)\n",
      "(?, 6)\n"
     ]
    }
   ],
   "source": [
    "#Setup tensorflow\n",
    "\n",
    "#Setup inputs\n",
    "x = tf.placeholder(\"float\", [None, 49, 49, 3], name='x')#Image\n",
    "y = tf.placeholder(\"float\", [None, 6], name='y')#Label and boundingbox\n",
    "\n",
    "#Setup network, using AlexNet as reference with minor changes in first and last layers\n",
    "\n",
    "############################Layer 1\n",
    "weight_1 = tf.Variable(tf.truncated_normal([3, 3, 3, 48]))#Kernal size changed from 11 to 3 and stride from 4 to 1        \n",
    "bias_1 = tf.Variable(tf.zeros(48))\n",
    "\n",
    "#Apply convolution\n",
    "conv_layer_1 = tf.nn.conv2d(x, weight_1, strides=[1,1,1,1], padding='VALID')\n",
    "# Add bias\n",
    "conv_layer_1 = tf.nn.bias_add(conv_layer_1, bias_1)\n",
    "\n",
    "# Apply activation function\n",
    "conv_layer_1 = tf.nn.relu(conv_layer_1)      \n",
    "conv_layer_1 = tf.nn.max_pool(conv_layer_1,ksize=[1,3,3,1],strides=[1,2,2,1],padding='VALID')\n",
    "\n",
    "print(conv_layer_1.get_shape())\n",
    "#############################Layer 2\n",
    "weight_2 = tf.Variable(tf.truncated_normal([5, 5, 48, 128]))\n",
    "bias_2 = tf.Variable(tf.zeros(128))\n",
    "\n",
    "#Apply convolution\n",
    "conv_layer_2 = tf.nn.conv2d(conv_layer_1, weight_2, strides=[1,1,1,1], padding='VALID')\n",
    "# Add bias\n",
    "conv_layer_2 = tf.nn.bias_add(conv_layer_2, bias_2)\n",
    "\n",
    "# Apply activation function\n",
    "conv_layer_2 = tf.nn.relu(conv_layer_2)      \n",
    "conv_layer_2 = tf.nn.max_pool(conv_layer_2,ksize=[1,3,3,1],strides=[1,2,2,1],padding='VALID')\n",
    "\n",
    "print(conv_layer_2.get_shape())\n",
    "#############################Layer 3\n",
    "weight_3 = tf.Variable(tf.truncated_normal([3, 3, 128, 192]))\n",
    "bias_3 = tf.Variable(tf.zeros(192))\n",
    "\n",
    "#Apply convolution\n",
    "conv_layer_3 = tf.nn.conv2d(conv_layer_2, weight_3, strides=[1,1,1,1], padding='VALID')\n",
    "# Add bias\n",
    "conv_layer_3 = tf.nn.bias_add(conv_layer_3, bias_3)\n",
    "# Apply activation function\n",
    "conv_layer_3 = tf.nn.relu(conv_layer_3)      \n",
    "\n",
    "print(conv_layer_3.get_shape())\n",
    "\n",
    "weight_4 = tf.Variable(tf.truncated_normal([3, 3, 192, 192]))\n",
    "bias_4 = tf.Variable(tf.zeros(192))\n",
    "\n",
    "#Apply convolution\n",
    "conv_layer_3 = tf.nn.conv2d(conv_layer_3, weight_4, strides=[1,1,1,1], padding='VALID')\n",
    "# Add bias\n",
    "conv_layer_3 = tf.nn.bias_add(conv_layer_3, bias_4)\n",
    "# Apply activation function\n",
    "conv_layer_3 = tf.nn.relu(conv_layer_3)      \n",
    "\n",
    "print(conv_layer_3.get_shape())\n",
    "\n",
    "weight_5 = tf.Variable(tf.truncated_normal([3, 3, 192, 128]))\n",
    "bias_5 = tf.Variable(tf.zeros(128))\n",
    "\n",
    "#Apply convolution\n",
    "conv_layer_3 = tf.nn.conv2d(conv_layer_3, weight_5, strides=[1,1,1,1], padding='VALID')\n",
    "# Add bias\n",
    "conv_layer_3 = tf.nn.bias_add(conv_layer_3, bias_5)\n",
    "# Apply activation function\n",
    "conv_layer_3 = tf.nn.relu(conv_layer_3)  \n",
    "\n",
    "conv_layer_3 = tf.nn.max_pool(conv_layer_3,ksize=[1,3,3,1],strides=[1,2,2,1],padding='VALID')\n",
    "\n",
    "print(conv_layer_3.get_shape())\n",
    "#############################Layer 4\n",
    "dim = conv_layer_3.get_shape().as_list()  \n",
    "fc_1 = tf.reshape(conv_layer_3, [-1,dim[1]*dim[2]*dim[3]])     \n",
    "\n",
    "dim = fc_1.get_shape().as_list()  \n",
    "fc_weight_1 = tf.Variable(tf.truncated_normal([dim[1], 2048]))        \n",
    "fc_bias_1 = tf.Variable(tf.zeros(2048))\n",
    "    \n",
    "# Apply multiplication        \n",
    "fc_layer_1 = tf.matmul(fc_1, fc_weight_1)\n",
    "# Add bias\n",
    "fc_layer_1 = tf.nn.bias_add(fc_layer_1, fc_bias_1)\n",
    "# Apply activation function\n",
    "fc_layer_1 = tf.nn.relu(fc_layer_1)          \n",
    "\n",
    "print(fc_layer_1.get_shape())\n",
    "#############################Layer 5\n",
    "dim = fc_layer_1.get_shape().as_list()  \n",
    "fc_weight_2 = tf.Variable(tf.truncated_normal([dim[1], 2048]))        \n",
    "fc_bias_2 = tf.Variable(tf.zeros(2048))\n",
    "    \n",
    "# Apply multiplication        \n",
    "fc_layer_2 = tf.matmul(fc_layer_1, fc_weight_2)\n",
    "# Add bias\n",
    "fc_layer_2 = tf.nn.bias_add(fc_layer_2, fc_bias_2)\n",
    "# Apply activation function\n",
    "fc_layer_2 = tf.nn.relu(fc_layer_2)          \n",
    "\n",
    "print(fc_layer_2.get_shape())\n",
    "#############################Layer 6\n",
    "#Output label and bounding box\n",
    "dim = fc_layer_2.get_shape().as_list()  \n",
    "fc_weight_3 = tf.Variable(tf.truncated_normal([dim[1], 6]))        \n",
    "fc_bias_3 = tf.Variable(tf.zeros(6))\n",
    "# Apply multiplication        \n",
    "fc_layer_3 = tf.matmul(fc_layer_2, fc_weight_3)\n",
    "# Add bias\n",
    "output_layer = tf.nn.bias_add(fc_layer_3, fc_bias_3)\n",
    "\n",
    "print(output_layer.get_shape())"
   ]
  },
  {
   "cell_type": "code",
   "execution_count": 44,
   "metadata": {},
   "outputs": [
    {
     "name": "stdout",
     "output_type": "stream",
     "text": [
      "(?, 2)\n",
      "(?, 4)\n",
      "(?, 4)\n"
     ]
    }
   ],
   "source": [
    "#define loss\n",
    "is_present = output_layer[:,0:2] \n",
    "bounding_box_coordinates = output_layer[:,2:]\n",
    "print(is_present.get_shape())\n",
    "print(bounding_box_coordinates.get_shape())\n",
    "print(y[:,2:].get_shape())"
   ]
  },
  {
   "cell_type": "code",
   "execution_count": 45,
   "metadata": {},
   "outputs": [],
   "source": [
    "def bbox_overlap_iou(bboxes1, bboxes2):\n",
    "    \"\"\"\n",
    "    Args:\n",
    "        bboxes1: shape (total_bboxes1, 4)\n",
    "            with x1, y1, x2, y2 point order.\n",
    "        bboxes2: shape (total_bboxes2, 4)\n",
    "            with x1, y1, x2, y2 point order.\n",
    "        p1 *-----\n",
    "           |     |\n",
    "           |_____* p2\n",
    "    Returns:\n",
    "        Tensor with shape (total_bboxes1, total_bboxes2)\n",
    "        with the IoU (intersection over union) of bboxes1[i] and bboxes2[j]\n",
    "        in [i, j].\n",
    "    \"\"\"\n",
    "\n",
    "    x11 = bboxes1[:,0]\n",
    "    y11 = bboxes1[:,1]\n",
    "    x12 = bboxes1[:,2]\n",
    "    y12 = bboxes1[:,3]\n",
    "    \n",
    "    x21 = bboxes2[:,0]\n",
    "    y21 = bboxes2[:,1]\n",
    "    x22 = bboxes2[:,2]\n",
    "    y22 = bboxes2[:,3]\n",
    "\n",
    "    #x11, y11, x12, y12 = tf.split(bboxes1, 4, axis=1)\n",
    "    #x21, y21, x22, y22 = tf.split(bboxes2, 4, axis=1)\n",
    "\n",
    "    xI1 = tf.maximum(x11, x21)\n",
    "    yI1 = tf.maximum(y11, y21)\n",
    "\n",
    "    xI2 = tf.minimum(x12, x22)\n",
    "    yI2 = tf.minimum(y12, y22)\n",
    "\n",
    "    inter_area = (xI2 - xI1 + 1) * (yI2 - yI1 + 1)\n",
    "\n",
    "    bboxes1_area = (x12 - x11 + 1) * (y12 - y11 + 1)\n",
    "    bboxes2_area = (x22 - x21 + 1) * (y22 - y21 + 1)\n",
    "\n",
    "    union = (bboxes1_area + tf.transpose(bboxes2_area)) - inter_area\n",
    "\n",
    "    return tf.maximum(inter_area / union, 0)"
   ]
  },
  {
   "cell_type": "code",
   "execution_count": 46,
   "metadata": {},
   "outputs": [],
   "source": [
    "#dim = is_prediction_present.get_shape().as_list() \n",
    "#l1 = tf.constant(0,shape=[dim[0], 1])\n",
    "#l0 = tf.mult(bbox_loss,0)\n",
    "#print(l0.get_shape())\n",
    "#print(l1.get_shape())\n",
    "#b = tf.cond(is_prediction_present, lambda: tf.constant(10), lambda: tf.constant(0))\n",
    "#iou_loss = tf.cond(prediction[:,0] < prediction[:,1], lambda: bbox_overlap_iou(bounding_box_coordinates,y[:,1:]), lambda: 0)"
   ]
  },
  {
   "cell_type": "code",
   "execution_count": 47,
   "metadata": {},
   "outputs": [
    {
     "name": "stdout",
     "output_type": "stream",
     "text": [
      "(?,)\n",
      "(?,)\n",
      "(?,)\n"
     ]
    }
   ],
   "source": [
    "#calculate cross entropy loss\n",
    "cross_entropy_loss = tf.reduce_mean(tf.nn.softmax_cross_entropy_with_logits_v2(logits=is_present, labels=y[:,:2]))\n",
    "\n",
    "#calculate loss only is prediction says person is present 2nd column > 1st column\n",
    "prediction = tf.nn.softmax(is_present)\n",
    "is_prediction_present = tf.less_equal(prediction[:,0],prediction[:,1])    \n",
    "print(is_prediction_present.get_shape())\n",
    "\n",
    "bbox_loss = bbox_overlap_iou(bounding_box_coordinates,y[:,1:])\n",
    "print(bbox_loss.get_shape())\n",
    "\n",
    "l0 = tf.zeros_like(bbox_loss)\n",
    "print(l0.get_shape())\n",
    "\n",
    "#if prediction is present calculate iou loss, else return 0\n",
    "iou_loss = tf.reduce_mean(tf.where(is_prediction_present,bbox_loss,l0))"
   ]
  },
  {
   "cell_type": "code",
   "execution_count": 48,
   "metadata": {},
   "outputs": [],
   "source": [
    "#add weights to cross entropy and iou losses\n",
    "\n",
    "alpha = 1.0\n",
    "total_loss = alpha * cross_entropy_loss + (1 - alpha) * iou_loss\n",
    "optimizer = tf.train.AdamOptimizer().minimize(total_loss)"
   ]
  },
  {
   "cell_type": "code",
   "execution_count": 49,
   "metadata": {},
   "outputs": [],
   "source": [
    "# Accuracy\n",
    "correct_pred = tf.equal(tf.argmax(is_present, 1), tf.argmax(y[:,:2], 1))\n",
    "accuracy = tf.reduce_mean(tf.cast(correct_pred, tf.float32), name='accuracy')\n"
   ]
  },
  {
   "cell_type": "code",
   "execution_count": 50,
   "metadata": {},
   "outputs": [],
   "source": [
    "def train_neural_network(session, optimizer,feature_batch, label_batch):\n",
    "    \"\"\"\n",
    "    Optimize the session on a batch of images and labels\n",
    "    : session: Current TensorFlow session\n",
    "    : optimizer: TensorFlow optimizer function\n",
    "    : keep_probability: keep probability\n",
    "    : feature_batch: Batch of Numpy image data\n",
    "    : label_batch: Batch of Numpy label data\n",
    "    \"\"\"\n",
    "    # TODO: Implement Function\n",
    "    session.run(optimizer, feed_dict={\n",
    "                x: feature_batch,\n",
    "                y: label_batch})\n",
    "    pass\n",
    "\n"
   ]
  },
  {
   "cell_type": "code",
   "execution_count": 51,
   "metadata": {},
   "outputs": [],
   "source": [
    "def print_stats(session, feature_batch, label_batch, valid_features, valid_labels, total_loss, accuracy):\n",
    "    \"\"\"\n",
    "    Print information about loss and validation accuracy\n",
    "    : session: Current TensorFlow session\n",
    "    : feature_batch: Batch of Numpy image data\n",
    "    : label_batch: Batch of Numpy label data\n",
    "    : cost: TensorFlow cost function\n",
    "    : accuracy: TensorFlow accuracy function\n",
    "    \"\"\"\n",
    "    # TODO: Implement Function\n",
    "    loss = session.run(total_loss, feed_dict={\n",
    "                       x: feature_batch,\n",
    "                       y: label_batch})\n",
    "    acc = session.run(accuracy, feed_dict={\n",
    "                       x: valid_features,\n",
    "                       y: valid_labels})\n",
    "    print('Loss: {:>10.4f} Validation Accuracy: {:.6f}'.format(loss,acc))\n",
    "    pass"
   ]
  },
  {
   "cell_type": "code",
   "execution_count": 52,
   "metadata": {},
   "outputs": [],
   "source": [
    "# TODO: Tune Parameters\n",
    "epochs = 100\n",
    "batch_size = 512"
   ]
  },
  {
   "cell_type": "code",
   "execution_count": 53,
   "metadata": {},
   "outputs": [],
   "source": [
    "sess = tf.Session()\n",
    "sess.run(tf.global_variables_initializer())"
   ]
  },
  {
   "cell_type": "code",
   "execution_count": 54,
   "metadata": {},
   "outputs": [
    {
     "name": "stdout",
     "output_type": "stream",
     "text": [
      "0 511\n",
      "512 1023\n",
      "1024 1535\n",
      "1536 2047\n",
      "2048 2559\n",
      "2560 3071\n",
      "3072 3583\n",
      "3584 4095\n",
      "4096 4607\n",
      "4608 4704\n"
     ]
    }
   ],
   "source": [
    "for i in range(0, int(np.ceil(len(X_train)/batch_size))):\n",
    "    start_index = i*batch_size\n",
    "    end_index = min(i*batch_size+(batch_size-1),len(X_train))\n",
    "    print(start_index,end_index)"
   ]
  },
  {
   "cell_type": "code",
   "execution_count": 55,
   "metadata": {},
   "outputs": [
    {
     "name": "stdout",
     "output_type": "stream",
     "text": [
      "Epoch  1, Batch 0:  Loss:        nan Validation Accuracy: 0.478741\n",
      "Epoch  1, Batch 1:  Loss:        nan Validation Accuracy: 0.521259\n",
      "Epoch  1, Batch 2:  Loss:        nan Validation Accuracy: 0.521259\n",
      "Epoch  1, Batch 3:  Loss:        nan Validation Accuracy: 0.521259\n",
      "Epoch  1, Batch 4:  Loss:        nan Validation Accuracy: 0.521259\n",
      "Epoch  1, Batch 5:  Loss:        nan Validation Accuracy: 0.521259\n",
      "Epoch  1, Batch 6:  Loss:        nan Validation Accuracy: 0.521259\n",
      "Epoch  1, Batch 7:  Loss:        nan Validation Accuracy: 0.521259\n",
      "Epoch  1, Batch 8:  Loss:        nan Validation Accuracy: 0.521259\n",
      "Epoch  1, Batch 9:  Loss:        nan Validation Accuracy: 0.521259\n",
      "Epoch  2, Batch 0:  Loss:        nan Validation Accuracy: 0.521259\n",
      "Epoch  2, Batch 1:  Loss:        nan Validation Accuracy: 0.521259\n",
      "Epoch  2, Batch 2:  Loss:        nan Validation Accuracy: 0.521259\n",
      "Epoch  2, Batch 3:  Loss:        nan Validation Accuracy: 0.521259\n",
      "Epoch  2, Batch 4:  Loss:        nan Validation Accuracy: 0.521259\n",
      "Epoch  2, Batch 5:  Loss:        nan Validation Accuracy: 0.521259\n",
      "Epoch  2, Batch 6:  Loss:        nan Validation Accuracy: 0.521259\n",
      "Epoch  2, Batch 7:  "
     ]
    },
    {
     "ename": "KeyboardInterrupt",
     "evalue": "",
     "output_type": "error",
     "traceback": [
      "\u001b[1;31m---------------------------------------------------------------------------\u001b[0m",
      "\u001b[1;31mKeyboardInterrupt\u001b[0m                         Traceback (most recent call last)",
      "\u001b[1;32m<ipython-input-55-3cf16d47b708>\u001b[0m in \u001b[0;36m<module>\u001b[1;34m()\u001b[0m\n\u001b[0;32m      7\u001b[0m         \u001b[0mtrain_neural_network\u001b[0m\u001b[1;33m(\u001b[0m\u001b[0msess\u001b[0m\u001b[1;33m,\u001b[0m \u001b[0moptimizer\u001b[0m\u001b[1;33m,\u001b[0m \u001b[0mbatch_features\u001b[0m\u001b[1;33m,\u001b[0m \u001b[0mbatch_labels\u001b[0m\u001b[1;33m)\u001b[0m\u001b[1;33m\u001b[0m\u001b[0m\n\u001b[0;32m      8\u001b[0m         \u001b[0mprint\u001b[0m\u001b[1;33m(\u001b[0m\u001b[1;34m'Epoch {:>2}, Batch {}:  '\u001b[0m\u001b[1;33m.\u001b[0m\u001b[0mformat\u001b[0m\u001b[1;33m(\u001b[0m\u001b[0mepoch\u001b[0m \u001b[1;33m+\u001b[0m \u001b[1;36m1\u001b[0m\u001b[1;33m,\u001b[0m \u001b[0mi\u001b[0m\u001b[1;33m)\u001b[0m\u001b[1;33m,\u001b[0m \u001b[0mend\u001b[0m\u001b[1;33m=\u001b[0m\u001b[1;34m''\u001b[0m\u001b[1;33m)\u001b[0m\u001b[1;33m\u001b[0m\u001b[0m\n\u001b[1;32m----> 9\u001b[1;33m         \u001b[0mprint_stats\u001b[0m\u001b[1;33m(\u001b[0m\u001b[0msess\u001b[0m\u001b[1;33m,\u001b[0m \u001b[0mbatch_features\u001b[0m\u001b[1;33m,\u001b[0m \u001b[0mbatch_labels\u001b[0m\u001b[1;33m,\u001b[0m \u001b[0mX_test\u001b[0m\u001b[1;33m,\u001b[0m \u001b[0my_test\u001b[0m\u001b[1;33m,\u001b[0m \u001b[0mtotal_loss\u001b[0m\u001b[1;33m,\u001b[0m \u001b[0maccuracy\u001b[0m\u001b[1;33m)\u001b[0m\u001b[1;33m\u001b[0m\u001b[0m\n\u001b[0m",
      "\u001b[1;32m<ipython-input-51-88aed88ec258>\u001b[0m in \u001b[0;36mprint_stats\u001b[1;34m(session, feature_batch, label_batch, valid_features, valid_labels, total_loss, accuracy)\u001b[0m\n\u001b[0;32m     14\u001b[0m     acc = session.run(accuracy, feed_dict={\n\u001b[0;32m     15\u001b[0m                        \u001b[0mx\u001b[0m\u001b[1;33m:\u001b[0m \u001b[0mvalid_features\u001b[0m\u001b[1;33m,\u001b[0m\u001b[1;33m\u001b[0m\u001b[0m\n\u001b[1;32m---> 16\u001b[1;33m                        y: valid_labels})\n\u001b[0m\u001b[0;32m     17\u001b[0m     \u001b[0mprint\u001b[0m\u001b[1;33m(\u001b[0m\u001b[1;34m'Loss: {:>10.4f} Validation Accuracy: {:.6f}'\u001b[0m\u001b[1;33m.\u001b[0m\u001b[0mformat\u001b[0m\u001b[1;33m(\u001b[0m\u001b[0mloss\u001b[0m\u001b[1;33m,\u001b[0m\u001b[0macc\u001b[0m\u001b[1;33m)\u001b[0m\u001b[1;33m)\u001b[0m\u001b[1;33m\u001b[0m\u001b[0m\n\u001b[0;32m     18\u001b[0m     \u001b[1;32mpass\u001b[0m\u001b[1;33m\u001b[0m\u001b[0m\n",
      "\u001b[1;32mc:\\program files\\python35\\lib\\site-packages\\tensorflow\\python\\client\\session.py\u001b[0m in \u001b[0;36mrun\u001b[1;34m(self, fetches, feed_dict, options, run_metadata)\u001b[0m\n\u001b[0;32m    893\u001b[0m     \u001b[1;32mtry\u001b[0m\u001b[1;33m:\u001b[0m\u001b[1;33m\u001b[0m\u001b[0m\n\u001b[0;32m    894\u001b[0m       result = self._run(None, fetches, feed_dict, options_ptr,\n\u001b[1;32m--> 895\u001b[1;33m                          run_metadata_ptr)\n\u001b[0m\u001b[0;32m    896\u001b[0m       \u001b[1;32mif\u001b[0m \u001b[0mrun_metadata\u001b[0m\u001b[1;33m:\u001b[0m\u001b[1;33m\u001b[0m\u001b[0m\n\u001b[0;32m    897\u001b[0m         \u001b[0mproto_data\u001b[0m \u001b[1;33m=\u001b[0m \u001b[0mtf_session\u001b[0m\u001b[1;33m.\u001b[0m\u001b[0mTF_GetBuffer\u001b[0m\u001b[1;33m(\u001b[0m\u001b[0mrun_metadata_ptr\u001b[0m\u001b[1;33m)\u001b[0m\u001b[1;33m\u001b[0m\u001b[0m\n",
      "\u001b[1;32mc:\\program files\\python35\\lib\\site-packages\\tensorflow\\python\\client\\session.py\u001b[0m in \u001b[0;36m_run\u001b[1;34m(self, handle, fetches, feed_dict, options, run_metadata)\u001b[0m\n\u001b[0;32m   1126\u001b[0m     \u001b[1;32mif\u001b[0m \u001b[0mfinal_fetches\u001b[0m \u001b[1;32mor\u001b[0m \u001b[0mfinal_targets\u001b[0m \u001b[1;32mor\u001b[0m \u001b[1;33m(\u001b[0m\u001b[0mhandle\u001b[0m \u001b[1;32mand\u001b[0m \u001b[0mfeed_dict_tensor\u001b[0m\u001b[1;33m)\u001b[0m\u001b[1;33m:\u001b[0m\u001b[1;33m\u001b[0m\u001b[0m\n\u001b[0;32m   1127\u001b[0m       results = self._do_run(handle, final_targets, final_fetches,\n\u001b[1;32m-> 1128\u001b[1;33m                              feed_dict_tensor, options, run_metadata)\n\u001b[0m\u001b[0;32m   1129\u001b[0m     \u001b[1;32melse\u001b[0m\u001b[1;33m:\u001b[0m\u001b[1;33m\u001b[0m\u001b[0m\n\u001b[0;32m   1130\u001b[0m       \u001b[0mresults\u001b[0m \u001b[1;33m=\u001b[0m \u001b[1;33m[\u001b[0m\u001b[1;33m]\u001b[0m\u001b[1;33m\u001b[0m\u001b[0m\n",
      "\u001b[1;32mc:\\program files\\python35\\lib\\site-packages\\tensorflow\\python\\client\\session.py\u001b[0m in \u001b[0;36m_do_run\u001b[1;34m(self, handle, target_list, fetch_list, feed_dict, options, run_metadata)\u001b[0m\n\u001b[0;32m   1342\u001b[0m     \u001b[1;32mif\u001b[0m \u001b[0mhandle\u001b[0m \u001b[1;32mis\u001b[0m \u001b[1;32mNone\u001b[0m\u001b[1;33m:\u001b[0m\u001b[1;33m\u001b[0m\u001b[0m\n\u001b[0;32m   1343\u001b[0m       return self._do_call(_run_fn, self._session, feeds, fetches, targets,\n\u001b[1;32m-> 1344\u001b[1;33m                            options, run_metadata)\n\u001b[0m\u001b[0;32m   1345\u001b[0m     \u001b[1;32melse\u001b[0m\u001b[1;33m:\u001b[0m\u001b[1;33m\u001b[0m\u001b[0m\n\u001b[0;32m   1346\u001b[0m       \u001b[1;32mreturn\u001b[0m \u001b[0mself\u001b[0m\u001b[1;33m.\u001b[0m\u001b[0m_do_call\u001b[0m\u001b[1;33m(\u001b[0m\u001b[0m_prun_fn\u001b[0m\u001b[1;33m,\u001b[0m \u001b[0mself\u001b[0m\u001b[1;33m.\u001b[0m\u001b[0m_session\u001b[0m\u001b[1;33m,\u001b[0m \u001b[0mhandle\u001b[0m\u001b[1;33m,\u001b[0m \u001b[0mfeeds\u001b[0m\u001b[1;33m,\u001b[0m \u001b[0mfetches\u001b[0m\u001b[1;33m)\u001b[0m\u001b[1;33m\u001b[0m\u001b[0m\n",
      "\u001b[1;32mc:\\program files\\python35\\lib\\site-packages\\tensorflow\\python\\client\\session.py\u001b[0m in \u001b[0;36m_do_call\u001b[1;34m(self, fn, *args)\u001b[0m\n\u001b[0;32m   1348\u001b[0m   \u001b[1;32mdef\u001b[0m \u001b[0m_do_call\u001b[0m\u001b[1;33m(\u001b[0m\u001b[0mself\u001b[0m\u001b[1;33m,\u001b[0m \u001b[0mfn\u001b[0m\u001b[1;33m,\u001b[0m \u001b[1;33m*\u001b[0m\u001b[0margs\u001b[0m\u001b[1;33m)\u001b[0m\u001b[1;33m:\u001b[0m\u001b[1;33m\u001b[0m\u001b[0m\n\u001b[0;32m   1349\u001b[0m     \u001b[1;32mtry\u001b[0m\u001b[1;33m:\u001b[0m\u001b[1;33m\u001b[0m\u001b[0m\n\u001b[1;32m-> 1350\u001b[1;33m       \u001b[1;32mreturn\u001b[0m \u001b[0mfn\u001b[0m\u001b[1;33m(\u001b[0m\u001b[1;33m*\u001b[0m\u001b[0margs\u001b[0m\u001b[1;33m)\u001b[0m\u001b[1;33m\u001b[0m\u001b[0m\n\u001b[0m\u001b[0;32m   1351\u001b[0m     \u001b[1;32mexcept\u001b[0m \u001b[0merrors\u001b[0m\u001b[1;33m.\u001b[0m\u001b[0mOpError\u001b[0m \u001b[1;32mas\u001b[0m \u001b[0me\u001b[0m\u001b[1;33m:\u001b[0m\u001b[1;33m\u001b[0m\u001b[0m\n\u001b[0;32m   1352\u001b[0m       \u001b[0mmessage\u001b[0m \u001b[1;33m=\u001b[0m \u001b[0mcompat\u001b[0m\u001b[1;33m.\u001b[0m\u001b[0mas_text\u001b[0m\u001b[1;33m(\u001b[0m\u001b[0me\u001b[0m\u001b[1;33m.\u001b[0m\u001b[0mmessage\u001b[0m\u001b[1;33m)\u001b[0m\u001b[1;33m\u001b[0m\u001b[0m\n",
      "\u001b[1;32mc:\\program files\\python35\\lib\\site-packages\\tensorflow\\python\\client\\session.py\u001b[0m in \u001b[0;36m_run_fn\u001b[1;34m(session, feed_dict, fetch_list, target_list, options, run_metadata)\u001b[0m\n\u001b[0;32m   1327\u001b[0m           return tf_session.TF_Run(session, options,\n\u001b[0;32m   1328\u001b[0m                                    \u001b[0mfeed_dict\u001b[0m\u001b[1;33m,\u001b[0m \u001b[0mfetch_list\u001b[0m\u001b[1;33m,\u001b[0m \u001b[0mtarget_list\u001b[0m\u001b[1;33m,\u001b[0m\u001b[1;33m\u001b[0m\u001b[0m\n\u001b[1;32m-> 1329\u001b[1;33m                                    status, run_metadata)\n\u001b[0m\u001b[0;32m   1330\u001b[0m \u001b[1;33m\u001b[0m\u001b[0m\n\u001b[0;32m   1331\u001b[0m     \u001b[1;32mdef\u001b[0m \u001b[0m_prun_fn\u001b[0m\u001b[1;33m(\u001b[0m\u001b[0msession\u001b[0m\u001b[1;33m,\u001b[0m \u001b[0mhandle\u001b[0m\u001b[1;33m,\u001b[0m \u001b[0mfeed_dict\u001b[0m\u001b[1;33m,\u001b[0m \u001b[0mfetch_list\u001b[0m\u001b[1;33m)\u001b[0m\u001b[1;33m:\u001b[0m\u001b[1;33m\u001b[0m\u001b[0m\n",
      "\u001b[1;31mKeyboardInterrupt\u001b[0m: "
     ]
    }
   ],
   "source": [
    "for epoch in range(epochs):\n",
    "    for i in range(0, int(np.ceil(len(X_train)/batch_size))):\n",
    "        start_index = i*batch_size\n",
    "        end_index = min(i*batch_size+(batch_size-1),len(X_train))\n",
    "        batch_features = X_train[start_index:end_index]\n",
    "        batch_labels = y_train[start_index:end_index]            \n",
    "        train_neural_network(sess, optimizer, batch_features, batch_labels)\n",
    "        print('Epoch {:>2}, Batch {}:  '.format(epoch + 1, i), end='')\n",
    "        print_stats(sess, batch_features, batch_labels, X_test, y_test, total_loss, accuracy)"
   ]
  },
  {
   "cell_type": "code",
   "execution_count": null,
   "metadata": {},
   "outputs": [],
   "source": []
  }
 ],
 "metadata": {
  "kernelspec": {
   "display_name": "Python 3",
   "language": "python",
   "name": "python3"
  },
  "language_info": {
   "codemirror_mode": {
    "name": "ipython",
    "version": 3
   },
   "file_extension": ".py",
   "mimetype": "text/x-python",
   "name": "python",
   "nbconvert_exporter": "python",
   "pygments_lexer": "ipython3",
   "version": "3.5.2"
  }
 },
 "nbformat": 4,
 "nbformat_minor": 2
}
